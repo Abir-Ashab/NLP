{
 "cells": [
  {
   "cell_type": "markdown",
   "metadata": {},
   "source": [
    "Install and download libraries"
   ]
  },
  {
   "cell_type": "code",
   "execution_count": 3,
   "metadata": {},
   "outputs": [
    {
     "name": "stderr",
     "output_type": "stream",
     "text": [
      "[nltk_data] Downloading package vader_lexicon to\n",
      "[nltk_data]     C:\\Users\\MSI\\AppData\\Roaming\\nltk_data...\n",
      "[nltk_data]   Package vader_lexicon is already up-to-date!\n",
      "[nltk_data] Downloading package punkt to\n",
      "[nltk_data]     C:\\Users\\MSI\\AppData\\Roaming\\nltk_data...\n",
      "[nltk_data]   Package punkt is already up-to-date!\n",
      "[nltk_data] Downloading package wordnet to\n",
      "[nltk_data]     C:\\Users\\MSI\\AppData\\Roaming\\nltk_data...\n",
      "[nltk_data]   Package wordnet is already up-to-date!\n",
      "[nltk_data] Downloading package omw-1.4 to\n",
      "[nltk_data]     C:\\Users\\MSI\\AppData\\Roaming\\nltk_data...\n",
      "[nltk_data]   Package omw-1.4 is already up-to-date!\n"
     ]
    },
    {
     "data": {
      "text/plain": [
       "True"
      ]
     },
     "execution_count": 3,
     "metadata": {},
     "output_type": "execute_result"
    }
   ],
   "source": [
    "import nltk\n",
    "nltk.download('vader_lexicon')\n",
    "nltk.download('punkt')  \n",
    "nltk.download('wordnet') \n",
    "nltk.download('omw-1.4')  "
   ]
  },
  {
   "cell_type": "markdown",
   "metadata": {},
   "source": [
    "Necessary functions"
   ]
  },
  {
   "cell_type": "code",
   "execution_count": 5,
   "metadata": {},
   "outputs": [],
   "source": [
    "from nltk.corpus import wordnet as wn\n",
    "from nltk.sentiment import SentimentIntensityAnalyzer\n",
    "\n",
    "sia = SentimentIntensityAnalyzer()\n",
    "\n",
    "def get_antonym(word):\n",
    "    antonyms = []\n",
    "    for syn in wn.synsets(word):\n",
    "        for lemma in syn.lemmas():\n",
    "            if lemma.antonyms():\n",
    "                antonyms.append(lemma.antonyms()[0].name())\n",
    "    return antonyms[0] if antonyms else None\n",
    "\n",
    "def reverse_word(word):\n",
    "    antonym = get_antonym(word)\n",
    "    return antonym if antonym else word\n",
    "\n",
    "def reverse_sentiment(sentence):\n",
    "    sentiment = sia.polarity_scores(sentence)\n",
    "    words = nltk.word_tokenize(sentence)\n",
    "    \n",
    "    if sentiment['compound'] > 0:\n",
    "        reversed_sentence = \" \".join([reverse_word(word) for word in words])\n",
    "    elif sentiment['compound'] < 0:\n",
    "        reversed_sentence = \" \".join([reverse_word(word) for word in words])\n",
    "    else:\n",
    "        reversed_sentence = sentence\n",
    "    \n",
    "    return reversed_sentence\n",
    "\n",
    "def reverse_document_sentiment(text):\n",
    "    sentences = nltk.sent_tokenize(text)\n",
    "    reversed_sentences = [reverse_sentiment(sentence) for sentence in sentences]\n",
    "    return ' '.join(reversed_sentences)\n"
   ]
  },
  {
   "cell_type": "markdown",
   "metadata": {},
   "source": [
    "Input and output"
   ]
  },
  {
   "cell_type": "code",
   "execution_count": 7,
   "metadata": {},
   "outputs": [
    {
     "name": "stdout",
     "output_type": "stream",
     "text": [
      "Output Text: He differ nasty and unattractive\n"
     ]
    }
   ],
   "source": [
    "input_text = \"\"\"He is nice and attractive\"\"\"\n",
    "\n",
    "output_text = reverse_document_sentiment(input_text)\n",
    "print(\"Output Text:\", output_text)"
   ]
  }
 ],
 "metadata": {
  "kernelspec": {
   "display_name": "Python 3",
   "language": "python",
   "name": "python3"
  },
  "language_info": {
   "codemirror_mode": {
    "name": "ipython",
    "version": 3
   },
   "file_extension": ".py",
   "mimetype": "text/x-python",
   "name": "python",
   "nbconvert_exporter": "python",
   "pygments_lexer": "ipython3",
   "version": "3.11.3"
  }
 },
 "nbformat": 4,
 "nbformat_minor": 2
}
