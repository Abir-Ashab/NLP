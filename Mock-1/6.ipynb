{
 "cells": [
  {
   "cell_type": "code",
   "execution_count": 1,
   "metadata": {},
   "outputs": [
    {
     "name": "stdout",
     "output_type": "stream",
     "text": [
      "    name   age         city\n",
      "0   John  28.0     New York\n",
      "1   Jane  32.0  Los Angeles\n",
      "2    Doe   0.0      Chicago\n",
      "3  Alice  29.0      Unknown\n",
      "4    Bob  23.0      Seattle\n",
      "   name   age         city\n",
      "0  John  28.0     New York\n",
      "1  Jane  32.0  Los Angeles\n",
      "4   Bob  23.0      Seattle\n"
     ]
    }
   ],
   "source": [
    "import pandas as pd\n",
    "df = pd.read_csv('data.csv')\n",
    "\n",
    "df_missing = pd.DataFrame({\n",
    "    'name': ['John', 'Jane', 'Doe', 'Alice', 'Bob'],\n",
    "    'age': [28, 32, None, 29, 23],\n",
    "    'city': ['New York', 'Los Angeles', 'Chicago', None, 'Seattle']\n",
    "})\n",
    "\n",
    "# Fill missing values with a specific value\n",
    "df_filled = df_missing.fillna({'age': 0, 'city': 'Unknown'})\n",
    "print(df_filled)\n",
    "\n",
    "# Drop rows with any missing values\n",
    "df_dropped = df_missing.dropna()\n",
    "print(df_dropped)\n",
    "\n"
   ]
  }
 ],
 "metadata": {
  "kernelspec": {
   "display_name": "Python 3",
   "language": "python",
   "name": "python3"
  },
  "language_info": {
   "codemirror_mode": {
    "name": "ipython",
    "version": 3
   },
   "file_extension": ".py",
   "mimetype": "text/x-python",
   "name": "python",
   "nbconvert_exporter": "python",
   "pygments_lexer": "ipython3",
   "version": "3.11.3"
  }
 },
 "nbformat": 4,
 "nbformat_minor": 2
}
