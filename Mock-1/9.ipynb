{
 "cells": [
  {
   "cell_type": "code",
   "execution_count": 2,
   "metadata": {},
   "outputs": [
    {
     "name": "stdout",
     "output_type": "stream",
     "text": [
      "city        Chicago  New York\n",
      "date                         \n",
      "2023-01-01       22        30\n",
      "2023-01-02       25        32\n"
     ]
    }
   ],
   "source": [
    "import pandas as pd\n",
    "df = pd.read_csv('data.csv')\n",
    "\n",
    "df_pivot_example = pd.DataFrame({\n",
    "    'date': ['2023-01-01', '2023-01-02', '2023-01-01', '2023-01-02'],\n",
    "    'city': ['New York', 'New York', 'Chicago', 'Chicago'],\n",
    "    'temperature': [30, 32, 22, 25]\n",
    "})\n",
    "\n",
    "df_pivot = df_pivot_example.pivot(index='date', columns='city', values='temperature')\n",
    "print(df_pivot)\n",
    "\n"
   ]
  }
 ],
 "metadata": {
  "kernelspec": {
   "display_name": "Python 3",
   "language": "python",
   "name": "python3"
  },
  "language_info": {
   "codemirror_mode": {
    "name": "ipython",
    "version": 3
   },
   "file_extension": ".py",
   "mimetype": "text/x-python",
   "name": "python",
   "nbconvert_exporter": "python",
   "pygments_lexer": "ipython3",
   "version": "3.11.3"
  }
 },
 "nbformat": 4,
 "nbformat_minor": 2
}
